{
 "cells": [
  {
   "cell_type": "code",
   "execution_count": 1,
   "metadata": {},
   "outputs": [],
   "source": [
    "import warnings\n",
    "warnings.simplefilter('ignore')\n",
    "%matplotlib inline\n",
    "import pandas as pd\n",
    "import numpy as np\n",
    "from sklearn.metrics import accuracy_score\n",
    "from sklearn.preprocessing import StandardScaler\n",
    "from sklearn.metrics import confusion_matrix\n",
    "import matplotlib\n",
    "import matplotlib.pyplot as plt\n",
    "import joblib\n",
    "import tensorflow as tf\n",
    "import tensorflow.keras as keras\n",
    "from tensorflow.keras.models import Sequential\n",
    "from tensorflow.keras import layers\n",
    "from tensorflow.keras.layers import Dense, Dropout, Activation, Flatten, Conv2D, MaxPooling2D, LSTM\n",
    "from tensorflow.keras.optimizers import SGD, Adam, RMSprop\n",
    "from tensorflow.keras import losses\n",
    "from sklearn.metrics import mean_squared_error\n",
    "from sklearn.metrics import f1_score\n",
    "import copy"
   ]
  },
  {
   "cell_type": "markdown",
   "metadata": {},
   "source": [
    "# Часть 7. Задача регрессии. Определение изменения цены HIGH в течении часа"
   ]
  },
  {
   "cell_type": "markdown",
   "metadata": {},
   "source": [
    "Загружаем сформированный в части 6 датасет с таргетом в виде изменения цены HIGH в течении часа:"
   ]
  },
  {
   "cell_type": "code",
   "execution_count": 2,
   "metadata": {},
   "outputs": [],
   "source": [
    "marked_dataset = joblib.load('marked_dataset_for_regression_with_high_average_delta.pkl')"
   ]
  },
  {
   "cell_type": "code",
   "execution_count": 3,
   "metadata": {},
   "outputs": [
    {
     "data": {
      "text/plain": [
       "(20045, 97)"
      ]
     },
     "execution_count": 3,
     "metadata": {},
     "output_type": "execute_result"
    }
   ],
   "source": [
    "marked_dataset.shape"
   ]
  },
  {
   "cell_type": "markdown",
   "metadata": {},
   "source": [
    "Мы видим размерность данных - `(20045, 97)`. Более чем достаточно для обучения нейронной сети.\n",
    "Будем применять ***тип слоев нейронной сети GRU (tensorflow.keras.layers.GRU)***. Соответственно, нам потребуется применить обратный порядок столбцов/признаков, так как сеть GRU предназначена для анализа временных рядов и первыми должны подаваться на вход признаки с более ранней хронологией. Для этого пишем функцию перестановки столбцов:"
   ]
  },
  {
   "cell_type": "code",
   "execution_count": 4,
   "metadata": {},
   "outputs": [],
   "source": [
    "def reverse_order_of_columns(marked_dataset):\n",
    "    new_order = list(range(95, -1, -1))\n",
    "    new_order = new_order + [96]\n",
    "    dataset = marked_dataset[marked_dataset.columns[new_order]]\n",
    "    return dataset"
   ]
  },
  {
   "cell_type": "code",
   "execution_count": 5,
   "metadata": {},
   "outputs": [],
   "source": [
    "marked_dataset = reverse_order_of_columns(marked_dataset)"
   ]
  },
  {
   "cell_type": "markdown",
   "metadata": {},
   "source": [
    "Применяем стандартные процедуры шкалирования данных и определения тренировочной и тестовой выборок:"
   ]
  },
  {
   "cell_type": "code",
   "execution_count": 6,
   "metadata": {},
   "outputs": [],
   "source": [
    "scaler = StandardScaler()\n",
    "X = marked_dataset.drop(columns='class')\n",
    "X_train = scaler.fit_transform(X)\n",
    "\n",
    "Y = marked_dataset['class']\n",
    "y_train = Y.values"
   ]
  },
  {
   "cell_type": "code",
   "execution_count": 7,
   "metadata": {
    "scrolled": false
   },
   "outputs": [
    {
     "data": {
      "text/plain": [
       "((15000, 96), (3000, 96), (15000,), (3000,))"
      ]
     },
     "execution_count": 7,
     "metadata": {},
     "output_type": "execute_result"
    }
   ],
   "source": [
    "X_train, X_test = X_train[:15000], X_train[15000:18000]\n",
    "y_train, y_test = y_train[:15000], y_train[15000:18000]\n",
    "X_train.shape, X_test.shape, y_train.shape, y_test.shape"
   ]
  },
  {
   "cell_type": "markdown",
   "metadata": {},
   "source": [
    "Здесь конечно важно упомянуть следующее. Хоть мы и применили название \"тестовая выборка\", и с точки зрения хронологии это данные, отстоящие после тренировочной выборки, по сути эти данные являются ***валидационной выборкой***. В настоящем понимании тестовые данные будут применяться только после выбора окончательной модели, и перед запуском модели в продакшн (то есть в реальную биржевую торговлю). Это отдельная процедура, здесь не рассматриваемая. Для наших задач определения топологии и типа датасета, способов работы с индексом SP&500 валидационной выборки вполне достаточно.\n",
    "\n",
    "Конечно же, для валидационной выборки желательно применить также период, состоящий из периода падающего рынка, или же рынка во флэте. Далее этот вопрос будет рассмотрен."
   ]
  },
  {
   "cell_type": "markdown",
   "metadata": {},
   "source": [
    "Продолжаем процесс преобразования данных. Меняем размерность данных, чтобы данные поступали в нейронную сеть GRU порциями `3 * 32` - для того, чтобы сеть могла установить временную зависимость между каждым часом. Посмотрим, как это у нее получится."
   ]
  },
  {
   "cell_type": "code",
   "execution_count": 8,
   "metadata": {
    "scrolled": false
   },
   "outputs": [
    {
     "data": {
      "text/plain": [
       "((15000, 32, 3), (3000, 32, 3), (15000,), (3000,))"
      ]
     },
     "execution_count": 8,
     "metadata": {},
     "output_type": "execute_result"
    }
   ],
   "source": [
    "X_train = X_train.reshape(X_train.shape[0], 32, 3)\n",
    "X_test = X_test.reshape(X_test.shape[0], 32, 3)\n",
    "X_train.shape, X_test.shape, y_train.shape, y_test.shape"
   ]
  },
  {
   "cell_type": "markdown",
   "metadata": {},
   "source": [
    "Инициализируем сеть и запускаем процесс обучения:"
   ]
  },
  {
   "cell_type": "code",
   "execution_count": 9,
   "metadata": {},
   "outputs": [
    {
     "data": {
      "text/plain": [
       "<tensorflow.python.keras.callbacks.History at 0x7ff006ff3cf8>"
      ]
     },
     "execution_count": 9,
     "metadata": {},
     "output_type": "execute_result"
    }
   ],
   "source": [
    "model = Sequential()\n",
    "model.add(layers.GRU(12, input_shape=(None, X_train.shape[-1])))\n",
    "\n",
    "model.add(layers.Dense(10, activation='relu'))\n",
    "\n",
    "model.add(layers.Dense(1, activation='linear'))\n",
    "\n",
    "model.compile(optimizer=tf.keras.optimizers.Adam(), loss='mean_squared_error')\n",
    "\n",
    "model.fit(X_train, y_train, epochs=80, batch_size=60, use_multiprocessing=True,\n",
    "         verbose=0, validation_data=(X_test, y_test))"
   ]
  },
  {
   "cell_type": "markdown",
   "metadata": {},
   "source": [
    "Модель обучилась. Но что означает ***`loss='mean_squared_error`' в районе 14-15***? Так сразу не понять.\n",
    "Поэтому приступим к ***визуальной проверке точности*** обученной модели на тестовом датасете. Сформируем для удобства анализа и применения фильтров датафрейм, состоящий из тестовых данных и данных, выданных моделью:"
   ]
  },
  {
   "cell_type": "code",
   "execution_count": 10,
   "metadata": {},
   "outputs": [
    {
     "data": {
      "text/plain": [
       "3000"
      ]
     },
     "execution_count": 10,
     "metadata": {},
     "output_type": "execute_result"
    }
   ],
   "source": [
    "y_pred = model.predict(X_test)\n",
    "y_pred = [y_pred[i][0] for i in range(len(y_pred))]\n",
    "df = pd.DataFrame({'y_test': y_test, 'y_pred': y_pred})\n",
    "len(df)"
   ]
  },
  {
   "cell_type": "markdown",
   "metadata": {},
   "source": [
    "Выборочно визуализируем моменты данных при номере индекса `k = 1890, 150, 1790, 1840, 90`. Синим цветом отобразим тестовые данные, красным - данные, выданные моделью. Например, так выглядят данные при `k=90`:"
   ]
  },
  {
   "cell_type": "code",
   "execution_count": 15,
   "metadata": {
    "scrolled": true
   },
   "outputs": [
    {
     "data": {
      "text/plain": [
       "[<matplotlib.lines.Line2D at 0x7f0a200d0f60>]"
      ]
     },
     "execution_count": 15,
     "metadata": {},
     "output_type": "execute_result"
    },
    {
     "data": {
      "image/png": "[encoded data removed]",
      "text/plain": [
       "<Figure size 432x288 with 1 Axes>"
      ]
     },
     "metadata": {
      "needs_background": "light"
     },
     "output_type": "display_data"
    }
   ],
   "source": [
    "#k=1890, 150, 1790, 1840, 90\n",
    "k=90\n",
    "plt.plot(range(30), df.y_test[k:k+30], color='blue')\n",
    "plt.plot(range(30), df.y_pred[k:k+30], color='red')"
   ]
  },
  {
   "cell_type": "markdown",
   "metadata": {},
   "source": [
    "Сразу бросается в глаза, что особенно хорошо модель \"видит\" будущее изменение цены, если это изменение относительно велико. В принципе, это то, что нам как раз и нужно: прибыль от волатильных сделок намного выше."
   ]
  },
  {
   "cell_type": "markdown",
   "metadata": {},
   "source": [
    "С учетом этого конкретизируем запрос к модели. Если модель выдает изменение цены более чем на 5 пунктов, то каково соотношение между сделками с действительным ростом более чем на 5 пунктов и числом сделок, в которых цена упала ниже нуля относительно текущего среднего уровня?"
   ]
  },
  {
   "cell_type": "code",
   "execution_count": 38,
   "metadata": {
    "scrolled": true
   },
   "outputs": [
    {
     "data": {
      "text/plain": [
       "0.933920704845815"
      ]
     },
     "execution_count": 38,
     "metadata": {},
     "output_type": "execute_result"
    }
   ],
   "source": [
    "res_pos = df[(df.y_pred>5)&(df.y_test>5)]\n",
    "res_neg = df[(df.y_pred>5)&(df.y_test<0)]\n",
    "len(res_pos) / (len(res_pos) + len(res_neg))"
   ]
  },
  {
   "cell_type": "code",
   "execution_count": 39,
   "metadata": {
    "scrolled": true
   },
   "outputs": [
    {
     "data": {
      "text/plain": [
       "424"
      ]
     },
     "execution_count": 39,
     "metadata": {},
     "output_type": "execute_result"
    }
   ],
   "source": [
    "len(res_pos)"
   ]
  },
  {
   "cell_type": "markdown",
   "metadata": {},
   "source": [
    "Как видим, в 93% случаев модель выдала нам надежные рекомендации об увеличении цены более чем на 5 пунктов, и лишь в 7% цена упала ниже среднего уровня. ***Напоминаю, что речь идет о валидационных данных***, что служит хорошим предвестником проведения ***всестороннего бэктеста*** в рамках рассмотренной концепции формирования датасета и его обучения."
   ]
  },
  {
   "cell_type": "markdown",
   "metadata": {},
   "source": [
    "И просто для наглядности примера отберем первые 20 моментов, когда модель выдала изменение цены более чем на 5 пунктов:"
   ]
  },
  {
   "cell_type": "code",
   "execution_count": 40,
   "metadata": {},
   "outputs": [
    {
     "data": {
      "text/html": [
       "<div>\n",
       "<style scoped>\n",
       "    .dataframe tbody tr th:only-of-type {\n",
       "        vertical-align: middle;\n",
       "    }\n",
       "\n",
       "    .dataframe tbody tr th {\n",
       "        vertical-align: top;\n",
       "    }\n",
       "\n",
       "    .dataframe thead th {\n",
       "        text-align: right;\n",
       "    }\n",
       "</style>\n",
       "<table border=\"1\" class=\"dataframe\">\n",
       "  <thead>\n",
       "    <tr style=\"text-align: right;\">\n",
       "      <th></th>\n",
       "      <th>y_test</th>\n",
       "      <th>y_pred</th>\n",
       "    </tr>\n",
       "  </thead>\n",
       "  <tbody>\n",
       "    <tr>\n",
       "      <td>7</td>\n",
       "      <td>1.600</td>\n",
       "      <td>5.450651</td>\n",
       "    </tr>\n",
       "    <tr>\n",
       "      <td>8</td>\n",
       "      <td>5.175</td>\n",
       "      <td>5.186965</td>\n",
       "    </tr>\n",
       "    <tr>\n",
       "      <td>9</td>\n",
       "      <td>1.745</td>\n",
       "      <td>5.286045</td>\n",
       "    </tr>\n",
       "    <tr>\n",
       "      <td>14</td>\n",
       "      <td>5.905</td>\n",
       "      <td>13.153670</td>\n",
       "    </tr>\n",
       "    <tr>\n",
       "      <td>17</td>\n",
       "      <td>2.825</td>\n",
       "      <td>5.179898</td>\n",
       "    </tr>\n",
       "    <tr>\n",
       "      <td>21</td>\n",
       "      <td>14.990</td>\n",
       "      <td>9.813053</td>\n",
       "    </tr>\n",
       "    <tr>\n",
       "      <td>22</td>\n",
       "      <td>6.350</td>\n",
       "      <td>7.401930</td>\n",
       "    </tr>\n",
       "    <tr>\n",
       "      <td>35</td>\n",
       "      <td>5.265</td>\n",
       "      <td>9.549406</td>\n",
       "    </tr>\n",
       "    <tr>\n",
       "      <td>41</td>\n",
       "      <td>1.985</td>\n",
       "      <td>5.031772</td>\n",
       "    </tr>\n",
       "    <tr>\n",
       "      <td>48</td>\n",
       "      <td>2.275</td>\n",
       "      <td>5.225728</td>\n",
       "    </tr>\n",
       "    <tr>\n",
       "      <td>49</td>\n",
       "      <td>9.470</td>\n",
       "      <td>6.244171</td>\n",
       "    </tr>\n",
       "    <tr>\n",
       "      <td>50</td>\n",
       "      <td>4.860</td>\n",
       "      <td>6.655973</td>\n",
       "    </tr>\n",
       "    <tr>\n",
       "      <td>61</td>\n",
       "      <td>3.215</td>\n",
       "      <td>7.767618</td>\n",
       "    </tr>\n",
       "    <tr>\n",
       "      <td>62</td>\n",
       "      <td>7.825</td>\n",
       "      <td>8.755870</td>\n",
       "    </tr>\n",
       "    <tr>\n",
       "      <td>79</td>\n",
       "      <td>5.600</td>\n",
       "      <td>5.606427</td>\n",
       "    </tr>\n",
       "    <tr>\n",
       "      <td>81</td>\n",
       "      <td>4.905</td>\n",
       "      <td>6.579450</td>\n",
       "    </tr>\n",
       "    <tr>\n",
       "      <td>83</td>\n",
       "      <td>3.390</td>\n",
       "      <td>11.184772</td>\n",
       "    </tr>\n",
       "    <tr>\n",
       "      <td>104</td>\n",
       "      <td>11.070</td>\n",
       "      <td>9.570289</td>\n",
       "    </tr>\n",
       "    <tr>\n",
       "      <td>125</td>\n",
       "      <td>10.755</td>\n",
       "      <td>9.286675</td>\n",
       "    </tr>\n",
       "    <tr>\n",
       "      <td>126</td>\n",
       "      <td>9.245</td>\n",
       "      <td>8.826371</td>\n",
       "    </tr>\n",
       "  </tbody>\n",
       "</table>\n",
       "</div>"
      ],
      "text/plain": [
       "     y_test     y_pred\n",
       "7     1.600   5.450651\n",
       "8     5.175   5.186965\n",
       "9     1.745   5.286045\n",
       "14    5.905  13.153670\n",
       "17    2.825   5.179898\n",
       "21   14.990   9.813053\n",
       "22    6.350   7.401930\n",
       "35    5.265   9.549406\n",
       "41    1.985   5.031772\n",
       "48    2.275   5.225728\n",
       "49    9.470   6.244171\n",
       "50    4.860   6.655973\n",
       "61    3.215   7.767618\n",
       "62    7.825   8.755870\n",
       "79    5.600   5.606427\n",
       "81    4.905   6.579450\n",
       "83    3.390  11.184772\n",
       "104  11.070   9.570289\n",
       "125  10.755   9.286675\n",
       "126   9.245   8.826371"
      ]
     },
     "execution_count": 40,
     "metadata": {},
     "output_type": "execute_result"
    }
   ],
   "source": [
    "df[(df.y_pred>5)][:20]"
   ]
  },
  {
   "cell_type": "markdown",
   "metadata": {},
   "source": [
    "# Часть 8. Пример работы с ситуативно-управляемым отбором"
   ]
  },
  {
   "cell_type": "markdown",
   "metadata": {},
   "source": [
    "Рассмотренный выше удачный кейс на валидационных данных с применением фильтров по волатильности рекомендаций (уже после обучения модели на общих данных), ставит перед нами следующий очевидный вопрос: надо ли попробовать избавить первоначальный датасет от шума данных? То есть тех моментов, которые, выражаясь простым языком, \"ни туда ни сюда\".\n",
    "\n",
    "Действительно. Ведь если период неопределенности на рынке тянется много часов подряд, не выдает нам четких рекомендаций с точки зрения количества позиций Лонг или Шорт, почему мы должны загружать эти данные в модель МО? Это лишняя нагрузка для модели, оттягивающая на себя все весовые коэффициенты нейронной сети и не оставляющая сети возможности сосредоточиться на каких-то точечных моментах с нужной нам высокой волатильностью, допустим."
   ]
  },
  {
   "cell_type": "markdown",
   "metadata": {},
   "source": [
    "Загрузим первоначальные данные:"
   ]
  },
  {
   "cell_type": "code",
   "execution_count": 13,
   "metadata": {},
   "outputs": [],
   "source": [
    "marked_dataset = joblib.load('marked_dataset_for_regression_with_high_average_delta.pkl')\n",
    "marked_dataset = reverse_order_of_columns(marked_dataset)"
   ]
  },
  {
   "cell_type": "markdown",
   "metadata": {},
   "source": [
    "И уже применим фильтр для отбора часов - строк датасета, когда ситуация, с нашей экспертной точки зрения, действительно предполагает весьма высокую волатильность в следующем часе. В нашем случае: давление моментов `Low` текущего часа более 25, или давление моментов `High` более 25. Таким образом мы точечно подходим к данным, избегая сплошной выбор данных и многочисленные ситуации неопределенности. По идее, сеть должна обучиться гораздо лучше, так как ей не будут мешать эти неопределенные моменты. Такой подход именуется ***ситуативно-управляемым отбором***."
   ]
  },
  {
   "cell_type": "code",
   "execution_count": 92,
   "metadata": {},
   "outputs": [
    {
     "data": {
      "text/plain": [
       "12276"
      ]
     },
     "execution_count": 92,
     "metadata": {},
     "output_type": "execute_result"
    }
   ],
   "source": [
    "md = marked_dataset[(marked_dataset['0_lowes3']>25)|(marked_dataset['0_highes3']>25)]\n",
    "len(md)"
   ]
  },
  {
   "cell_type": "markdown",
   "metadata": {},
   "source": [
    "Есть и обратная сторона такого отбора. Размер датасета упал с 20 тысяч до 12 тысяч. Такая ситуация в некоторых случаях может характеризоваться нехваткой данных для обучения. Но вроде бы данных пока достаточно, с нашей точки зрения."
   ]
  },
  {
   "cell_type": "markdown",
   "metadata": {},
   "source": [
    "Повторяем весь процесс преобразования данных и обучения модели:"
   ]
  },
  {
   "cell_type": "code",
   "execution_count": 93,
   "metadata": {},
   "outputs": [],
   "source": [
    "scaler = StandardScaler()\n",
    "X = md.drop(columns='class')\n",
    "X_train = scaler.fit_transform(X)\n",
    "\n",
    "Y = md['class']\n",
    "y_train = Y.values"
   ]
  },
  {
   "cell_type": "code",
   "execution_count": 94,
   "metadata": {},
   "outputs": [
    {
     "data": {
      "text/plain": [
       "9443"
      ]
     },
     "execution_count": 94,
     "metadata": {},
     "output_type": "execute_result"
    }
   ],
   "source": [
    "border = int(len(md)//1.3)\n",
    "border"
   ]
  },
  {
   "cell_type": "code",
   "execution_count": 95,
   "metadata": {},
   "outputs": [
    {
     "data": {
      "text/plain": [
       "((9443, 96), (2833, 96), (9443,), (2833,))"
      ]
     },
     "execution_count": 95,
     "metadata": {},
     "output_type": "execute_result"
    }
   ],
   "source": [
    "X_train, X_test = X_train[:border], X_train[border:]\n",
    "y_train, y_test = y_train[:border], y_train[border:]\n",
    "X_train.shape, X_test.shape, y_train.shape, y_test.shape"
   ]
  },
  {
   "cell_type": "code",
   "execution_count": 96,
   "metadata": {},
   "outputs": [
    {
     "data": {
      "text/plain": [
       "((9443, 32, 3), (2833, 32, 3), (9443,), (2833,))"
      ]
     },
     "execution_count": 96,
     "metadata": {},
     "output_type": "execute_result"
    }
   ],
   "source": [
    "X_train = X_train.reshape(X_train.shape[0], 32, 3)\n",
    "X_test = X_test.reshape(X_test.shape[0], 32, 3)\n",
    "X_train.shape, X_test.shape, y_train.shape, y_test.shape"
   ]
  },
  {
   "cell_type": "code",
   "execution_count": null,
   "metadata": {},
   "outputs": [],
   "source": [
    "model = Sequential()\n",
    "model.add(layers.GRU(8, input_shape=(None, X_train.shape[-1])))\n",
    "\n",
    "model.add(layers.Dense(6, activation='relu'))\n",
    "\n",
    "model.add(layers.Dense(1, activation='linear'))\n",
    "\n",
    "model.compile(optimizer=tf.keras.optimizers.Adam(), loss='mean_squared_error')\n",
    "\n",
    "\n",
    "\n",
    "model.fit(X_train, y_train, epochs=80, batch_size=40, use_multiprocessing=True,\n",
    "         verbose=0, validation_data=(X_test, y_test))"
   ]
  },
  {
   "cell_type": "code",
   "execution_count": 98,
   "metadata": {},
   "outputs": [],
   "source": [
    "y_pred = model.predict(X_test)"
   ]
  },
  {
   "cell_type": "code",
   "execution_count": 99,
   "metadata": {},
   "outputs": [
    {
     "data": {
      "text/plain": [
       "2833"
      ]
     },
     "execution_count": 99,
     "metadata": {},
     "output_type": "execute_result"
    }
   ],
   "source": [
    "y_pred = [y_pred[i][0] for i in range(len(y_pred))]\n",
    "df = pd.DataFrame({'y_test': y_test, 'y_pred': y_pred})\n",
    "len(df)"
   ]
  },
  {
   "cell_type": "code",
   "execution_count": 101,
   "metadata": {
    "scrolled": true
   },
   "outputs": [
    {
     "data": {
      "text/plain": [
       "[<matplotlib.lines.Line2D at 0x7f095f6c8eb8>]"
      ]
     },
     "execution_count": 101,
     "metadata": {},
     "output_type": "execute_result"
    },
    {
     "data": {
      "image/png": "[encoded data removed]",
      "text/plain": [
       "<Figure size 432x288 with 1 Axes>"
      ]
     },
     "metadata": {
      "needs_background": "light"
     },
     "output_type": "display_data"
    }
   ],
   "source": [
    "#k=890, 150, 790, 840, 1150\n",
    "k=890\n",
    "plt.plot(range(30), df.y_test[k:k+30], color='blue')\n",
    "plt.plot(range(30), df.y_pred[k:k+30], color='red')"
   ]
  },
  {
   "cell_type": "markdown",
   "metadata": {},
   "source": [
    "Пока что наши рассуждения верны. Сеть действительно начинает уделять большее внимание волатильным моментам."
   ]
  },
  {
   "cell_type": "markdown",
   "metadata": {},
   "source": [
    "# Часть 9. Задача классификации. Реализация тройного барьерного метода, с учетом волатильности в момент входа в сделку"
   ]
  },
  {
   "cell_type": "markdown",
   "metadata": {},
   "source": [
    "Отвлечемся от задачи регрессии, то есть определения изменения цены в следующем часе относительно текущего. Ведь на практике мы как активные инвесторы определяем норму взятия прибыли (т.н. тейкпрофит) и норму остановки убытка (т.н. стоплосс). Или же оставляем позицию открытой, в рамках определенного временного окна.\n",
    "\n",
    "Подобная ситуация в рамках машинного обучения моделируется как задача классификации, с 3-мя классами."
   ]
  },
  {
   "cell_type": "markdown",
   "metadata": {},
   "source": [
    "#### Пример описательного моделирования"
   ]
  },
  {
   "cell_type": "markdown",
   "metadata": {},
   "source": [
    "Допустим, мы хотим фиксировать прибыль при достижении нормы прибыли 2% (то есть уровень тейкпрофит). Если не удается, фиксируем убытки на уровне стоплосс тоже 2%, зеркально. Также действует временное окно для нашей позиции - 30 часов.\n",
    "Начальные параметры нашего поведения заданы.\n",
    "\n",
    "Последовательность наших действий для маркировки таргета в виде задачи классификации видится следующим образом.\n",
    "Для каждого часа берем цену ***`Price=(Price_high+Price_low)/2`***. Идем вдоль временного ряда и отслеживаем, какое из событий в течение временного окна (то есть за 30 часов) случится первым:\n",
    "\n",
    "- `Price_high/Price > 1.02` (***маркируем текущий час как \"2\" - тейкпрофит***, то есть рекомендуется открывать позицию Лонг в расчете на рост рынка более чем на 2%)\n",
    "\n",
    "или же\n",
    "\n",
    "- `Price_low/Price < 0.98` (***маркируем текущий час как \"0\" - стоплосс***, то есть рекомендуется открывать позицию Шорт в расчете на падение рынка более чем на 2%)\n",
    "\n",
    "Если ни одно из этих событий за 30 часов не произошло, считаем, что ничего не делаем, и\n",
    "- (***маркируем текущий час как \"1\" - холд***)\n",
    "\n",
    "Напоминаю, что маркировка 2,1,0 - условная, предназначена для задачи классификации в рамках машинного обучения.\n",
    "\n",
    "Описанная методика классификации путем установления ограничений для цены сверху (тейкпрофит), снизу (стоплосс) и впереди движения цены (размер временного окна) называется ***тройным барьерным методом***. Действительно, какой-то из этих барьеров обязательно сработает."
   ]
  },
  {
   "cell_type": "markdown",
   "metadata": {},
   "source": [
    "#### Вспоминаем роль волатильности"
   ]
  },
  {
   "cell_type": "markdown",
   "metadata": {},
   "source": [
    "Ок, с методологией маркировки таргета все понятно. Но какие нормы тейкпрофит и стоплосс следует взять? И должны ли они быть равны? Расширим вопрос. Должны ли эти нормы сохраняться на протяжении всего временного ряда?\n",
    "\n",
    "Имеет смысл опереться на волатильность. Рассмотренная задача регресии убедила нас, что волатильность - важнейший фактор. И мы можем фиксировать прибыли и убытки на уровне низкого тейкпрофит в периоды низкой волатильности, и увеличивать эти нормы в периоды высокой волатильности.\n",
    "\n",
    "Соответственно, будем рассматривать задачу классификации еще шире. Мы будем брать разные уровни тейкпрофит и стоплосс в зависимости от текущей волатильности, помноженные на соответствующие коэффициенты. Волатильность, в свою очередь, тоже может рассчитываться за разные периоды времени.\n",
    "\n",
    "Итак, нам нужно определить наилучшие коэффициенты для тейкпрофит, стоплосс, наилучший период для определения волатильности. Временное окно удержания позиции приравняем к 20.\n",
    "\n",
    "Критерием выбора наилучших коэффициентов будет наилучшая ***матрица неточностей `confusion matrix` из sklearn***. Инструментом быстрого отбора лучших результатов будет служить ***`f1_score`*** из той же библиотеки."
   ]
  },
  {
   "cell_type": "markdown",
   "metadata": {},
   "source": [
    "Нижеприведенный код реализует вышеописанную логику."
   ]
  },
  {
   "cell_type": "markdown",
   "metadata": {},
   "source": [
    "#### Подготовка данных и функций для итеративного отбора наилучших параметров тейкпрофит, стоплосс, периода волатильности"
   ]
  },
  {
   "cell_type": "code",
   "execution_count": 19,
   "metadata": {},
   "outputs": [],
   "source": [
    "marked_dataset = joblib.load('marked_dataset_for_regression_with_high_average_delta.pkl')\n",
    "\n",
    "marked_dataset = reverse_order_of_columns(marked_dataset)"
   ]
  },
  {
   "cell_type": "code",
   "execution_count": 20,
   "metadata": {
    "scrolled": true
   },
   "outputs": [
    {
     "data": {
      "text/plain": [
       "((15000, 32, 3), (850, 32, 3))"
      ]
     },
     "execution_count": 20,
     "metadata": {},
     "output_type": "execute_result"
    }
   ],
   "source": [
    "scaler = StandardScaler()\n",
    "X = marked_dataset.drop(columns='class')\n",
    "X_train = scaler.fit_transform(X)\n",
    "X_train, X_test = X_train[:15000], X_train[17150:18000]\n",
    "\n",
    "X_train = X_train.reshape(X_train.shape[0], 32, 3)\n",
    "X_test = X_test.reshape(X_test.shape[0], 32, 3)\n",
    "X_train.shape, X_test.shape"
   ]
  },
  {
   "cell_type": "markdown",
   "metadata": {},
   "source": [
    "> Обратим внимание, что периодом тестовой (валидационной) выборки выбран период неустойчивого флэта на рынке, скорее даже падение рынка во второй половине выборки. Это можно проследить по индексам периода выборки (до шкалирования), при желании.\n",
    "\n",
    "> Это сделано с целью предотвращения выбора переобученной модели, так как модель с 2008г. по 2017г. обучается на периоде, в котором рынок растет."
   ]
  },
  {
   "cell_type": "code",
   "execution_count": 21,
   "metadata": {},
   "outputs": [],
   "source": [
    "SP = joblib.load('SP.pkl')\n",
    "temp_dataset = pd.DataFrame(index=marked_dataset.index)\n",
    "temp_dataset['Price_high'] = SP['Price_high']\n",
    "temp_dataset['Price_low'] = SP['Price_low']\n",
    "temp_dataset['Price'] = SP['Price']"
   ]
  },
  {
   "cell_type": "code",
   "execution_count": 22,
   "metadata": {},
   "outputs": [],
   "source": [
    "# функция для получения таргет-столбца, маркированного 2,1,0\n",
    "def get_class_dat(temp_dataset, window=15, timelen=40, profitcoef=2,\n",
    "                  losscoef=2, fix_volat=False):\n",
    "    Price_high = list(temp_dataset['Price_high'])\n",
    "    Price_low = list(temp_dataset['Price_low'])\n",
    "    Price = list(temp_dataset['Price'])\n",
    "    Target_class = [1] * len(Price)\n",
    "    volat = list(temp_dataset['Price_high'].rolling(window=window,\n",
    "                                                    min_periods=1).std())\n",
    "    volat[0] = volat[1]\n",
    "    \n",
    "    for i in range(len(Price)-timelen):\n",
    "        price = Price[i]\n",
    "        if fix_volat:\n",
    "            takeprofit =  1 + (profitcoef / 100)\n",
    "            stoploss = 1 - (losscoef / 100)\n",
    "        else:\n",
    "            takeprofit =  1 + (volat[i] / price * profitcoef)\n",
    "            stoploss = 1 - (volat[i] / price * losscoef)            \n",
    "        for y in range(i+1, i+1+timelen):\n",
    "            delta_high = Price_high[y] / price\n",
    "            delta_low = Price_low[y] / price\n",
    "            if delta_high > takeprofit:\n",
    "                Target_class[i] = 2\n",
    "                break\n",
    "            if delta_low < stoploss:\n",
    "                Target_class[i] = 0\n",
    "                break\n",
    "    classification_dataset = temp_dataset.copy(deep=True)\n",
    "    classification_dataset['class'] = Target_class\n",
    "\n",
    "    return classification_dataset['class']"
   ]
  },
  {
   "cell_type": "code",
   "execution_count": 23,
   "metadata": {},
   "outputs": [],
   "source": [
    "# функция проведения обучения нейронной сети и получения\n",
    "# выданных обученной моделью результатов на тестовых данных\n",
    "def get_nn_testings(X_train, y_train, X_test, y_test):\n",
    "    model = Sequential()\n",
    "    model.add(layers.GRU(12, input_shape=(None, X_train.shape[-1])))\n",
    "\n",
    "    model.add(layers.Dense(10, activation='relu'))\n",
    "\n",
    "    model.add(layers.Dense(3, activation='softmax'))\n",
    "    model.compile(optimizer=tf.keras.optimizers.Adam(),\n",
    "                  loss='sparse_categorical_crossentropy', metrics=['accuracy'])\n",
    "    model.fit(X_train, y_train, epochs=60, batch_size=40, use_multiprocessing=True,\n",
    "             verbose=0, validation_data=(X_test, y_test))\n",
    "    y_pred = model.predict(X_test)\n",
    "    y_pred = [np.argmax(i) for i in y_pred]\n",
    "    \n",
    "    return y_pred"
   ]
  },
  {
   "cell_type": "markdown",
   "metadata": {},
   "source": [
    "#### Задаем пространство поиска параметров"
   ]
  },
  {
   "cell_type": "code",
   "execution_count": 24,
   "metadata": {},
   "outputs": [],
   "source": [
    "profitcoef_s = [1,3]\n",
    "losscoef_s = [1,3]\n",
    "windows = [5,15,40]"
   ]
  },
  {
   "cell_type": "markdown",
   "metadata": {},
   "source": [
    "#### Итерации с игнорированием волатильности `(fix_volat=True)`"
   ]
  },
  {
   "cell_type": "code",
   "execution_count": null,
   "metadata": {},
   "outputs": [],
   "source": [
    "results = []\n",
    "for profitcoef in profitcoef_s:\n",
    "    for losscoef in losscoef_s:\n",
    "        for window in windows:\n",
    "            Y = get_class_dat(temp_dataset, window=window, timelen=20,\n",
    "                              profitcoef=profitcoef, losscoef=losscoef,\n",
    "                              fix_volat=True)\n",
    "            y_train = Y.values\n",
    "            y_train, y_test = y_train[:15000], y_train[17150:18000]\n",
    "            y_pred = get_nn_testings(X_train, y_train, X_test, y_test)\n",
    "            print('---------------------------')\n",
    "            print('confusion_matrix = ')\n",
    "            print(confusion_matrix(y_test, y_pred))\n",
    "            print('f1 = ', f1_score(y_test, y_pred, average='micro'))\n",
    "            print('profitcoef, losscoef, window = ', profitcoef, losscoef, window)\n",
    "            \n",
    "            results.append([f1_score(y_test, y_pred, average='micro'),\n",
    "                            profitcoef, losscoef, window])"
   ]
  },
  {
   "cell_type": "markdown",
   "metadata": {},
   "source": [
    "#### Итерации с учетом волатильности `(fix_volat=False)`"
   ]
  },
  {
   "cell_type": "code",
   "execution_count": 51,
   "metadata": {
    "scrolled": true
   },
   "outputs": [
    {
     "name": "stdout",
     "output_type": "stream",
     "text": [
      "---------------------------\n",
      "confusion_matrix = \n",
      "[[210   0 117]\n",
      " [  0   0   1]\n",
      " [ 98   0 424]]\n",
      "f1 =  0.7458823529411764\n",
      "profitcoef, losscoef, window =  1 1 5\n"
     ]
    }
   ],
   "source": [
    "results_2 = []\n",
    "for profitcoef in profitcoef_s:\n",
    "    for losscoef in losscoef_s:\n",
    "        for window in windows:\n",
    "            Y = get_class_dat(temp_dataset, window=window, timelen=20,\n",
    "                              profitcoef=profitcoef, losscoef=losscoef,\n",
    "                              fix_volat=False)\n",
    "            y_train = Y.values\n",
    "            y_train, y_test = y_train[:15000], y_train[17150:18000]\n",
    "            y_pred = get_nn_testings(X_train, y_train, X_test, y_test)\n",
    "            print('---------------------------')\n",
    "            print('confusion_matrix = ')\n",
    "            print(confusion_matrix(y_test, y_pred))\n",
    "            print('f1 = ', f1_score(y_test, y_pred, average='micro'))\n",
    "            print('profitcoef, losscoef, window = ', profitcoef, losscoef, window)\n",
    "            \n",
    "            results_2.append([f1_score(y_test, y_pred, average='micro'),\n",
    "                            profitcoef, losscoef, window])"
   ]
  },
  {
   "cell_type": "markdown",
   "metadata": {},
   "source": [
    "Итак, наилучшие результаты получены при параметрах с учетом волатильности `(fix_volat=False)`, и набором `profitcoef, losscoef, window =  1, 1, 5`. Причем эти результаты сильно лучше по сравнению с моделями без учета волатильности. Получается, ***динамическая во времени тактика взятия прибылей и фиксации убытков доказывает свою эффективность***, что мы и выяснили эмпирическим путем."
   ]
  },
  {
   "cell_type": "markdown",
   "metadata": {},
   "source": [
    "К последней рассмотренной модели с динамической классификацией теперь необходимо применить вышерассмотренный ситуативно-управляемый отбор. Почему необходимо? Хотя бы потому, что в коде тейкпрофит определен как `takeprofit =  1 + (volat[i] / price * profitcoef)`.\n",
    "\n",
    "`volat[i]` - это уровень волатильности в момент времени i. Стоплосс определен аналогично, только со знаком минус. И если принять за веру коэффициент `profitcoef` равным 1, то уровень `takeprofit` в большинстве случаев будет сильно меньше 1,01, так как средний уровень соотношения `volat[i] / price` колеблется в районе 0.3%. А это уже грозит потерями на комиссиях по сделке больше чем прибыль от сделки.\n",
    "\n",
    "Логично, что нам надо вводить уже новый столбец с данными `volat[i]` в сам датасет и применять фильтрацию уже по нему для формирования датасета с подходящим уровнем волатильности."
   ]
  },
  {
   "cell_type": "markdown",
   "metadata": {},
   "source": [
    "# Часть 10. Интерпретация полученных результатов и выводы"
   ]
  },
  {
   "cell_type": "markdown",
   "metadata": {},
   "source": [
    "Прежде всего, напомним себе, как в учебниках расписывают проект машинного обучения:\n",
    "- загрузка, очистка, форматирование данных\n",
    "- формулирование математического каркаса гипотезы, и на основе гипотезы формирование датасета и таргет-столбца\n",
    "- проведение обучения, выбор подходящей модели с применением валидационной проверки\n",
    "- окончательное тестирование модели на новых данных (бэктестирование - в терминах финансовых рынков)\n",
    "- запуск модели в продакшн, в случае успешного прохождения всех этапов."
   ]
  },
  {
   "cell_type": "markdown",
   "metadata": {},
   "source": [
    "Мы прошли первые 3 этапа, на проекте машинного обучения в сфере анализа SP&500. ***Окончательное тестирование не проведено, так как продакшн пока что не планировался***. Цель была в другом - выявить способность нейронных сетей осуществлять грамотную рекомендательную работу при условии четко сформулированных и проверенных гипотез. Валидационная выборка как раз и была призвана ответить на этот вопрос (по сути валидационная выборка и выполняет роль тестовой. Ведь модель не видит данные во время обучения).\n",
    "\n",
    "Касательно того ***риска, не видела ли модель во время обучения часть данных валидационной выборки, или наоборот***. Ответ для внимательного исследователя - да, видела. В тот момент, когда шло разбиение данных:\n",
    "\n",
    "`X_train, X_test = X_train[:15000], X_train[15000:18000]`\n",
    "\n",
    "Обе выборки содержат 31 час общих данных. Помним, что образец (строка) датасета содержит данные за последние 32 часа. Таким образом, примесь нечистых данных составляет 31/15000 ~ 0,002 от тренировочных данных, и 31/3000 ~ 0.01 от валидационных данных. С учетом того, что даже через 8-10 часов после начала отсчета ситуация с точки зрения средней цены по волатильности обычно меняется довольно сильно, и с учетом низкой примеси \"грязных\" данных, мы пренебрегаем этой погрешностью.\n",
    "\n",
    "Возвращаясь к результатам, сформулируем следующим образом. Представляется **валидационно подтвержденным**, что нейронная сеть способна находить на фондовом рынке неочевидные для человеческого восприятия закономерности и выдавать достаточно точные рекомендации касательно того, сделку какого рода (Лонг или Шорт) и в какой момент нам следует осуществить."
   ]
  }
 ],
 "metadata": {
  "kernelspec": {
   "display_name": "Python 3",
   "language": "python",
   "name": "python3"
  },
  "language_info": {
   "codemirror_mode": {
    "name": "ipython",
    "version": 3
   },
   "file_extension": ".py",
   "mimetype": "text/x-python",
   "name": "python",
   "nbconvert_exporter": "python",
   "pygments_lexer": "ipython3",
   "version": "3.6.9"
  }
 },
 "nbformat": 4,
 "nbformat_minor": 2
}
